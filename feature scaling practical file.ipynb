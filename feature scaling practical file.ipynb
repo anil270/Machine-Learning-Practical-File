{
 "cells": [
  {
   "cell_type": "markdown",
   "id": "4dcb9958",
   "metadata": {},
   "source": [
    "# TASK - 6:  Feature Scaling: Normalization and Standardization"
   ]
  },
  {
   "cell_type": "markdown",
   "id": "c1107b03",
   "metadata": {},
   "source": [
    "# Feature Scaling"
   ]
  },
  {
   "cell_type": "markdown",
   "id": "e9b2d07e",
   "metadata": {},
   "source": [
    "There are two primary ways for feature scaling which we will cover in the remainder of this article:\n",
    "\n",
    "Rescaling, or min-max normalization: we scale the data into one of two ranges: [0, 1] or[a, b], often [-1, 1].\n",
    "\n",
    "Standardization, or Z-score normalization: we scale the data so that the mean is zero and variance is 1."
   ]
  },
  {
   "cell_type": "code",
   "execution_count": 1,
   "id": "195a7396",
   "metadata": {},
   "outputs": [],
   "source": [
    "import pandas as pd\n",
    "import numpy as np"
   ]
  },
  {
   "cell_type": "markdown",
   "id": "b6e424be",
   "metadata": {},
   "source": [
    "# Rescaling (min-max normalization)"
   ]
  },
  {
   "cell_type": "markdown",
   "id": "99c09307",
   "metadata": {},
   "source": [
    "Minmax scaler should be the first choice for scaling. For each feature, each value is subtracted by the minimum value of the respective feature and then divide by the range of original maximum and minimum of the same feature. It has a default range between [0,1]."
   ]
  },
  {
   "cell_type": "code",
   "execution_count": 2,
   "id": "4d4f472d",
   "metadata": {},
   "outputs": [],
   "source": [
    "ds = np.array([1.0, 12.4, 3.9, 10.4])"
   ]
  },
  {
   "cell_type": "code",
   "execution_count": 3,
   "id": "a817d0d8",
   "metadata": {},
   "outputs": [
    {
     "data": {
      "text/plain": [
       "array([0.        , 1.        , 0.25438596, 0.8245614 ])"
      ]
     },
     "execution_count": 3,
     "metadata": {},
     "output_type": "execute_result"
    }
   ],
   "source": [
    "n_ds = (ds - min(ds)) / (max(ds) - min(ds)) \n",
    "n_ds  "
   ]
  },
  {
   "cell_type": "code",
   "execution_count": 4,
   "id": "b695b490",
   "metadata": {},
   "outputs": [
    {
     "data": {
      "text/plain": [
       "array([0.        , 1.5       , 0.38157895, 1.23684211])"
      ]
     },
     "execution_count": 4,
     "metadata": {},
     "output_type": "execute_result"
    }
   ],
   "source": [
    "x = 0\n",
    "y = 1.5 \n",
    "ns_ds = x+((ds - min(ds))*(y - x)/(max(ds) - min(ds))) \n",
    "ns_ds"
   ]
  },
  {
   "cell_type": "code",
   "execution_count": 5,
   "id": "b4d40834",
   "metadata": {},
   "outputs": [
    {
     "data": {
      "text/plain": [
       "array([[0.        ],\n",
       "       [1.5       ],\n",
       "       [0.38157895],\n",
       "       [1.23684211]])"
      ]
     },
     "execution_count": 5,
     "metadata": {},
     "output_type": "execute_result"
    }
   ],
   "source": [
    "from sklearn.preprocessing import MinMaxScaler as mms\n",
    "ds = ds.reshape(-1, 1) # Column\n",
    "scaler = mms(feature_range=(0, 1.5))\n",
    "n_ds = scaler.fit_transform(ds)\n",
    "n_ds"
   ]
  },
  {
   "cell_type": "markdown",
   "id": "913631ca",
   "metadata": {},
   "source": [
    "# Standardization (Z-scale normalization)"
   ]
  },
  {
   "cell_type": "markdown",
   "id": "523c1cd4",
   "metadata": {},
   "source": [
    "In Rescaling, we normalized our dataset based on the minimum and maximum values. Mean and standard deviation are however not standard, meaning that nither the mean is 0 nor the standard deviation is 1.\n",
    "\n",
    "StandardScaler rescales each column to have 0 mean and 1 Standard Deviation. It standardizes a feature by subtracting the mean and dividing by the standard deviation. If the original distribution is not normally distributed, it may distort the relative space among the features."
   ]
  },
  {
   "cell_type": "code",
   "execution_count": 6,
   "id": "db4ea902",
   "metadata": {},
   "outputs": [
    {
     "name": "stdout",
     "output_type": "stream",
     "text": [
      "Mean --->  0.7796052631578947\n",
      "Std. --->  0.611196249385709\n"
     ]
    }
   ],
   "source": [
    "print(\"Mean ---> \",np.mean(n_ds))\n",
    "print(\"Std. ---> \",np.std(n_ds))"
   ]
  },
  {
   "cell_type": "code",
   "execution_count": 7,
   "id": "48aff75a",
   "metadata": {},
   "outputs": [
    {
     "name": "stdout",
     "output_type": "stream",
     "text": [
      "[[0.125     ]\n",
      " [0.91666667]\n",
      " [0.        ]\n",
      " [1.5       ]]\n",
      "0.6354166666666665\n",
      "0.6105090942538584\n"
     ]
    }
   ],
   "source": [
    "dtst = np.array([2.4, 6.2, 1.8, 9.0]).reshape(-1, 1)\n",
    "scaler = mms(feature_range=(0, 1.5))\n",
    "n_dtst = scaler.fit_transform(dtst)\n",
    "print(n_dtst)\n",
    "print(np.mean(n_dtst))\n",
    "print(np.std(n_dtst))"
   ]
  },
  {
   "cell_type": "code",
   "execution_count": 8,
   "id": "ca70ad64",
   "metadata": {},
   "outputs": [
    {
     "data": {
      "text/plain": [
       "array([-1.37198868, -0.17149859,  1.02899151,  1.02899151,  1.02899151,\n",
       "       -0.17149859, -1.37198868])"
      ]
     },
     "execution_count": 8,
     "metadata": {},
     "output_type": "execute_result"
    }
   ],
   "source": [
    "ds = np.array([1.0, 2.0, 3.0, 3.0, 3.0, 2.0, 1.0])\n",
    "st_ds = (ds - np.average(ds)) / (np.std(ds))\n",
    "st_ds"
   ]
  },
  {
   "cell_type": "code",
   "execution_count": 9,
   "id": "b683de1b",
   "metadata": {},
   "outputs": [
    {
     "data": {
      "text/plain": [
       "array([[-1.37198868],\n",
       "       [-0.17149859],\n",
       "       [ 1.02899151],\n",
       "       [ 1.02899151],\n",
       "       [ 1.02899151],\n",
       "       [-0.17149859],\n",
       "       [-1.37198868]])"
      ]
     },
     "execution_count": 9,
     "metadata": {},
     "output_type": "execute_result"
    }
   ],
   "source": [
    "from sklearn.preprocessing import StandardScaler as stsc\n",
    "ds = np.array([1.0, 2.0, 3.0, 3.0, 3.0, 2.0, 1.0]).reshape(-1, 1)\n",
    "scaler = stsc()\n",
    "st_ds = scaler.fit_transform(ds)\n",
    "st_ds"
   ]
  },
  {
   "cell_type": "code",
   "execution_count": 10,
   "id": "7cb4b23b",
   "metadata": {},
   "outputs": [
    {
     "name": "stdout",
     "output_type": "stream",
     "text": [
      "Mean --->  0.00000000000000003172065784643304\n",
      "Std. --->  1.0\n"
     ]
    }
   ],
   "source": [
    "print(\"Mean ---> \",np.format_float_positional(np.mean(st_ds), trim='-'))\n",
    "print(\"Std. ---> \",np.std(st_ds))"
   ]
  }
 ],
 "metadata": {
  "kernelspec": {
   "display_name": "Python 3",
   "language": "python",
   "name": "python3"
  },
  "language_info": {
   "codemirror_mode": {
    "name": "ipython",
    "version": 3
   },
   "file_extension": ".py",
   "mimetype": "text/x-python",
   "name": "python",
   "nbconvert_exporter": "python",
   "pygments_lexer": "ipython3",
   "version": "3.8.8"
  }
 },
 "nbformat": 4,
 "nbformat_minor": 5
}
